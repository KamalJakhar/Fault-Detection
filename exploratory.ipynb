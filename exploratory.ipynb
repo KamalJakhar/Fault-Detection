{
 "cells": [
  {
   "cell_type": "code",
   "execution_count": 1,
   "metadata": {},
   "outputs": [],
   "source": [
    "import numpy as np\n",
    "import pandas as pd\n",
    "import array\n",
    "import matplotlib.pyplot as plt\n",
    "import matplotlib.axes as d\n",
    "from sklearn import datasets, linear_model "
   ]
  },
  {
   "cell_type": "code",
   "execution_count": 2,
   "metadata": {},
   "outputs": [],
   "source": [
    "df = pd.read_csv(\"explofinal.csv\") "
   ]
  },
  {
   "cell_type": "code",
   "execution_count": null,
   "metadata": {},
   "outputs": [],
   "source": []
  },
  {
   "cell_type": "code",
   "execution_count": 3,
   "metadata": {
    "scrolled": true
   },
   "outputs": [
    {
     "data": {
      "text/html": [
       "<div>\n",
       "<style scoped>\n",
       "    .dataframe tbody tr th:only-of-type {\n",
       "        vertical-align: middle;\n",
       "    }\n",
       "\n",
       "    .dataframe tbody tr th {\n",
       "        vertical-align: top;\n",
       "    }\n",
       "\n",
       "    .dataframe thead th {\n",
       "        text-align: right;\n",
       "    }\n",
       "</style>\n",
       "<table border=\"1\" class=\"dataframe\">\n",
       "  <thead>\n",
       "    <tr style=\"text-align: right;\">\n",
       "      <th></th>\n",
       "      <th>time</th>\n",
       "      <th>input current</th>\n",
       "      <th>input voltage</th>\n",
       "      <th>output current</th>\n",
       "      <th>output voltage</th>\n",
       "    </tr>\n",
       "  </thead>\n",
       "  <tbody>\n",
       "    <tr>\n",
       "      <th>0</th>\n",
       "      <td>0.000000</td>\n",
       "      <td>-3693.592694</td>\n",
       "      <td>1.820000e-13</td>\n",
       "      <td>-3693.592647</td>\n",
       "      <td>-3693.592647</td>\n",
       "    </tr>\n",
       "    <tr>\n",
       "      <th>1</th>\n",
       "      <td>0.000001</td>\n",
       "      <td>-3693.471647</td>\n",
       "      <td>9.319722e+01</td>\n",
       "      <td>-3693.471647</td>\n",
       "      <td>-3693.471647</td>\n",
       "    </tr>\n",
       "    <tr>\n",
       "      <th>2</th>\n",
       "      <td>0.000001</td>\n",
       "      <td>-3693.471647</td>\n",
       "      <td>9.319722e+01</td>\n",
       "      <td>-3693.471647</td>\n",
       "      <td>-3693.471647</td>\n",
       "    </tr>\n",
       "    <tr>\n",
       "      <th>3</th>\n",
       "      <td>0.000001</td>\n",
       "      <td>-3693.471647</td>\n",
       "      <td>9.319722e+01</td>\n",
       "      <td>-3693.471647</td>\n",
       "      <td>-3693.471647</td>\n",
       "    </tr>\n",
       "    <tr>\n",
       "      <th>4</th>\n",
       "      <td>0.000101</td>\n",
       "      <td>-3682.650245</td>\n",
       "      <td>7.003518e+03</td>\n",
       "      <td>-3682.653682</td>\n",
       "      <td>-3682.653682</td>\n",
       "    </tr>\n",
       "    <tr>\n",
       "      <th>5</th>\n",
       "      <td>0.000201</td>\n",
       "      <td>-3668.197395</td>\n",
       "      <td>1.390693e+04</td>\n",
       "      <td>-3668.204265</td>\n",
       "      <td>-3668.204265</td>\n",
       "    </tr>\n",
       "    <tr>\n",
       "      <th>6</th>\n",
       "      <td>0.000301</td>\n",
       "      <td>-3650.122756</td>\n",
       "      <td>2.079661e+04</td>\n",
       "      <td>-3650.133053</td>\n",
       "      <td>-3650.133053</td>\n",
       "    </tr>\n",
       "    <tr>\n",
       "      <th>7</th>\n",
       "      <td>0.000401</td>\n",
       "      <td>-3628.447297</td>\n",
       "      <td>2.766577e+04</td>\n",
       "      <td>-3628.461011</td>\n",
       "      <td>-3628.461011</td>\n",
       "    </tr>\n",
       "    <tr>\n",
       "      <th>8</th>\n",
       "      <td>0.000501</td>\n",
       "      <td>-3603.190287</td>\n",
       "      <td>3.450763e+04</td>\n",
       "      <td>-3603.207404</td>\n",
       "      <td>-3603.207404</td>\n",
       "    </tr>\n",
       "    <tr>\n",
       "      <th>9</th>\n",
       "      <td>0.000601</td>\n",
       "      <td>-3574.378083</td>\n",
       "      <td>4.131543e+04</td>\n",
       "      <td>-3574.398586</td>\n",
       "      <td>-3574.398586</td>\n",
       "    </tr>\n",
       "    <tr>\n",
       "      <th>10</th>\n",
       "      <td>0.000701</td>\n",
       "      <td>-3542.038157</td>\n",
       "      <td>4.808246e+04</td>\n",
       "      <td>-3542.062026</td>\n",
       "      <td>-3542.062026</td>\n",
       "    </tr>\n",
       "    <tr>\n",
       "      <th>11</th>\n",
       "      <td>0.000801</td>\n",
       "      <td>-3506.203067</td>\n",
       "      <td>5.480204e+04</td>\n",
       "      <td>-3506.230279</td>\n",
       "      <td>-3506.230279</td>\n",
       "    </tr>\n",
       "    <tr>\n",
       "      <th>12</th>\n",
       "      <td>0.000901</td>\n",
       "      <td>-3466.907750</td>\n",
       "      <td>6.146753e+04</td>\n",
       "      <td>-3466.938277</td>\n",
       "      <td>-3466.938277</td>\n",
       "    </tr>\n",
       "    <tr>\n",
       "      <th>13</th>\n",
       "      <td>0.001001</td>\n",
       "      <td>-3424.191269</td>\n",
       "      <td>6.807237e+04</td>\n",
       "      <td>-3424.225081</td>\n",
       "      <td>-3424.225081</td>\n",
       "    </tr>\n",
       "    <tr>\n",
       "      <th>14</th>\n",
       "      <td>0.001101</td>\n",
       "      <td>-3378.095592</td>\n",
       "      <td>7.461002e+04</td>\n",
       "      <td>-3378.132656</td>\n",
       "      <td>-3378.132656</td>\n",
       "    </tr>\n",
       "    <tr>\n",
       "      <th>15</th>\n",
       "      <td>0.001201</td>\n",
       "      <td>-3328.666333</td>\n",
       "      <td>8.107405e+04</td>\n",
       "      <td>-3328.706613</td>\n",
       "      <td>-3328.706613</td>\n",
       "    </tr>\n",
       "    <tr>\n",
       "      <th>16</th>\n",
       "      <td>0.001301</td>\n",
       "      <td>-3275.952192</td>\n",
       "      <td>8.745806e+04</td>\n",
       "      <td>-3275.995647</td>\n",
       "      <td>-3275.995647</td>\n",
       "    </tr>\n",
       "    <tr>\n",
       "      <th>17</th>\n",
       "      <td>0.001401</td>\n",
       "      <td>-3220.005243</td>\n",
       "      <td>9.375576e+04</td>\n",
       "      <td>-3220.051832</td>\n",
       "      <td>-3220.051832</td>\n",
       "    </tr>\n",
       "    <tr>\n",
       "      <th>18</th>\n",
       "      <td>0.001501</td>\n",
       "      <td>-3160.880665</td>\n",
       "      <td>9.996094e+04</td>\n",
       "      <td>-3160.930340</td>\n",
       "      <td>-3160.930340</td>\n",
       "    </tr>\n",
       "    <tr>\n",
       "      <th>19</th>\n",
       "      <td>0.001601</td>\n",
       "      <td>-3098.636828</td>\n",
       "      <td>1.060675e+05</td>\n",
       "      <td>-3098.689542</td>\n",
       "      <td>-3098.689542</td>\n",
       "    </tr>\n",
       "    <tr>\n",
       "      <th>20</th>\n",
       "      <td>0.001701</td>\n",
       "      <td>-3033.335145</td>\n",
       "      <td>1.120693e+05</td>\n",
       "      <td>-3033.390845</td>\n",
       "      <td>-3033.390845</td>\n",
       "    </tr>\n",
       "    <tr>\n",
       "      <th>21</th>\n",
       "      <td>0.001801</td>\n",
       "      <td>-2965.040070</td>\n",
       "      <td>1.179606e+05</td>\n",
       "      <td>-2965.098700</td>\n",
       "      <td>-2965.098700</td>\n",
       "    </tr>\n",
       "    <tr>\n",
       "      <th>22</th>\n",
       "      <td>0.001901</td>\n",
       "      <td>-2893.818996</td>\n",
       "      <td>1.237354e+05</td>\n",
       "      <td>-2893.880499</td>\n",
       "      <td>-2893.880499</td>\n",
       "    </tr>\n",
       "    <tr>\n",
       "      <th>23</th>\n",
       "      <td>0.002001</td>\n",
       "      <td>-2819.742212</td>\n",
       "      <td>1.293881e+05</td>\n",
       "      <td>-2819.806527</td>\n",
       "      <td>-2819.806527</td>\n",
       "    </tr>\n",
       "    <tr>\n",
       "      <th>24</th>\n",
       "      <td>0.002101</td>\n",
       "      <td>-2742.882820</td>\n",
       "      <td>1.349132e+05</td>\n",
       "      <td>-2742.949884</td>\n",
       "      <td>-2742.949884</td>\n",
       "    </tr>\n",
       "    <tr>\n",
       "      <th>25</th>\n",
       "      <td>0.002201</td>\n",
       "      <td>-2663.316673</td>\n",
       "      <td>1.403051e+05</td>\n",
       "      <td>-2663.386420</td>\n",
       "      <td>-2663.386420</td>\n",
       "    </tr>\n",
       "    <tr>\n",
       "      <th>26</th>\n",
       "      <td>0.002301</td>\n",
       "      <td>-2581.122292</td>\n",
       "      <td>1.455585e+05</td>\n",
       "      <td>-2581.194652</td>\n",
       "      <td>-2581.194652</td>\n",
       "    </tr>\n",
       "    <tr>\n",
       "      <th>27</th>\n",
       "      <td>0.002401</td>\n",
       "      <td>-2496.380792</td>\n",
       "      <td>1.506683e+05</td>\n",
       "      <td>-2496.455695</td>\n",
       "      <td>-2496.455695</td>\n",
       "    </tr>\n",
       "    <tr>\n",
       "      <th>28</th>\n",
       "      <td>0.002501</td>\n",
       "      <td>-2409.175803</td>\n",
       "      <td>1.556294e+05</td>\n",
       "      <td>-2409.253175</td>\n",
       "      <td>-2409.253175</td>\n",
       "    </tr>\n",
       "    <tr>\n",
       "      <th>29</th>\n",
       "      <td>0.002601</td>\n",
       "      <td>-2319.593386</td>\n",
       "      <td>1.604369e+05</td>\n",
       "      <td>-2319.673149</td>\n",
       "      <td>-2319.673149</td>\n",
       "    </tr>\n",
       "    <tr>\n",
       "      <th>...</th>\n",
       "      <td>...</td>\n",
       "      <td>...</td>\n",
       "      <td>...</td>\n",
       "      <td>...</td>\n",
       "      <td>...</td>\n",
       "    </tr>\n",
       "    <tr>\n",
       "      <th>7673</th>\n",
       "      <td>0.497326</td>\n",
       "      <td>-2677.550788</td>\n",
       "      <td>-1.638112e+05</td>\n",
       "      <td>-2677.471947</td>\n",
       "      <td>-2677.471947</td>\n",
       "    </tr>\n",
       "    <tr>\n",
       "      <th>7674</th>\n",
       "      <td>0.497426</td>\n",
       "      <td>-2756.608542</td>\n",
       "      <td>-1.591193e+05</td>\n",
       "      <td>-2756.541549</td>\n",
       "      <td>-2756.541549</td>\n",
       "    </tr>\n",
       "    <tr>\n",
       "      <th>7675</th>\n",
       "      <td>0.497526</td>\n",
       "      <td>-2832.949709</td>\n",
       "      <td>-1.542704e+05</td>\n",
       "      <td>-2832.890744</td>\n",
       "      <td>-2832.890744</td>\n",
       "    </tr>\n",
       "    <tr>\n",
       "      <th>7676</th>\n",
       "      <td>0.497626</td>\n",
       "      <td>-2906.499894</td>\n",
       "      <td>-1.492694e+05</td>\n",
       "      <td>-2906.443356</td>\n",
       "      <td>-2906.443356</td>\n",
       "    </tr>\n",
       "    <tr>\n",
       "      <th>7677</th>\n",
       "      <td>0.497726</td>\n",
       "      <td>-2977.186546</td>\n",
       "      <td>-1.441212e+05</td>\n",
       "      <td>-2977.126862</td>\n",
       "      <td>-2977.126862</td>\n",
       "    </tr>\n",
       "    <tr>\n",
       "      <th>7678</th>\n",
       "      <td>0.497826</td>\n",
       "      <td>-3044.939038</td>\n",
       "      <td>-1.388308e+05</td>\n",
       "      <td>-3044.872462</td>\n",
       "      <td>-3044.872462</td>\n",
       "    </tr>\n",
       "    <tr>\n",
       "      <th>7679</th>\n",
       "      <td>0.497926</td>\n",
       "      <td>-3109.689030</td>\n",
       "      <td>-1.334036e+05</td>\n",
       "      <td>-3109.614852</td>\n",
       "      <td>-3109.614852</td>\n",
       "    </tr>\n",
       "    <tr>\n",
       "      <th>7680</th>\n",
       "      <td>0.498026</td>\n",
       "      <td>-3171.371020</td>\n",
       "      <td>-1.278447e+05</td>\n",
       "      <td>-3171.291810</td>\n",
       "      <td>-3171.291810</td>\n",
       "    </tr>\n",
       "    <tr>\n",
       "      <th>7681</th>\n",
       "      <td>0.498126</td>\n",
       "      <td>-3229.922939</td>\n",
       "      <td>-1.221598e+05</td>\n",
       "      <td>-3229.843737</td>\n",
       "      <td>-3229.843737</td>\n",
       "    </tr>\n",
       "    <tr>\n",
       "      <th>7682</th>\n",
       "      <td>0.498226</td>\n",
       "      <td>-3285.286599</td>\n",
       "      <td>-1.163545e+05</td>\n",
       "      <td>-3285.213331</td>\n",
       "      <td>-3285.213331</td>\n",
       "    </tr>\n",
       "    <tr>\n",
       "      <th>7683</th>\n",
       "      <td>0.498326</td>\n",
       "      <td>-3337.407892</td>\n",
       "      <td>-1.104343e+05</td>\n",
       "      <td>-3337.345497</td>\n",
       "      <td>-3337.345497</td>\n",
       "    </tr>\n",
       "    <tr>\n",
       "      <th>7684</th>\n",
       "      <td>0.498426</td>\n",
       "      <td>-3386.236687</td>\n",
       "      <td>-1.044053e+05</td>\n",
       "      <td>-3386.187566</td>\n",
       "      <td>-3386.187566</td>\n",
       "    </tr>\n",
       "    <tr>\n",
       "      <th>7685</th>\n",
       "      <td>0.498526</td>\n",
       "      <td>-3431.726472</td>\n",
       "      <td>-9.827329e+04</td>\n",
       "      <td>-3431.689747</td>\n",
       "      <td>-3431.689747</td>\n",
       "    </tr>\n",
       "    <tr>\n",
       "      <th>7686</th>\n",
       "      <td>0.498626</td>\n",
       "      <td>-3473.833875</td>\n",
       "      <td>-9.204437e+04</td>\n",
       "      <td>-3473.805692</td>\n",
       "      <td>-3473.805692</td>\n",
       "    </tr>\n",
       "    <tr>\n",
       "      <th>7687</th>\n",
       "      <td>0.498726</td>\n",
       "      <td>-3512.518233</td>\n",
       "      <td>-8.572468e+04</td>\n",
       "      <td>-3512.493011</td>\n",
       "      <td>-3512.493011</td>\n",
       "    </tr>\n",
       "    <tr>\n",
       "      <th>7688</th>\n",
       "      <td>0.498826</td>\n",
       "      <td>-3547.741361</td>\n",
       "      <td>-7.932044e+04</td>\n",
       "      <td>-3547.713585</td>\n",
       "      <td>-3547.713585</td>\n",
       "    </tr>\n",
       "    <tr>\n",
       "      <th>7689</th>\n",
       "      <td>0.498926</td>\n",
       "      <td>-3579.467601</td>\n",
       "      <td>-7.283798e+04</td>\n",
       "      <td>-3579.433593</td>\n",
       "      <td>-3579.433593</td>\n",
       "    </tr>\n",
       "    <tr>\n",
       "      <th>7690</th>\n",
       "      <td>0.499026</td>\n",
       "      <td>-3607.664151</td>\n",
       "      <td>-6.628369e+04</td>\n",
       "      <td>-3607.623249</td>\n",
       "      <td>-3607.623249</td>\n",
       "    </tr>\n",
       "    <tr>\n",
       "      <th>7691</th>\n",
       "      <td>0.499126</td>\n",
       "      <td>-3632.301584</td>\n",
       "      <td>-5.966403e+04</td>\n",
       "      <td>-3632.256354</td>\n",
       "      <td>-3632.256354</td>\n",
       "    </tr>\n",
       "    <tr>\n",
       "      <th>7692</th>\n",
       "      <td>0.499226</td>\n",
       "      <td>-3653.354390</td>\n",
       "      <td>-5.298553e+04</td>\n",
       "      <td>-3653.309815</td>\n",
       "      <td>-3653.309815</td>\n",
       "    </tr>\n",
       "    <tr>\n",
       "      <th>7693</th>\n",
       "      <td>0.499326</td>\n",
       "      <td>-3670.801387</td>\n",
       "      <td>-4.625478e+04</td>\n",
       "      <td>-3670.763286</td>\n",
       "      <td>-3670.763286</td>\n",
       "    </tr>\n",
       "    <tr>\n",
       "      <th>7694</th>\n",
       "      <td>0.499426</td>\n",
       "      <td>-3684.625873</td>\n",
       "      <td>-3.947841e+04</td>\n",
       "      <td>-3684.599052</td>\n",
       "      <td>-3684.599052</td>\n",
       "    </tr>\n",
       "    <tr>\n",
       "      <th>7695</th>\n",
       "      <td>0.499526</td>\n",
       "      <td>-3694.815484</td>\n",
       "      <td>-3.266310e+04</td>\n",
       "      <td>-3694.802217</td>\n",
       "      <td>-3694.802217</td>\n",
       "    </tr>\n",
       "    <tr>\n",
       "      <th>7696</th>\n",
       "      <td>0.499626</td>\n",
       "      <td>-3701.361793</td>\n",
       "      <td>-2.581559e+04</td>\n",
       "      <td>-3701.361111</td>\n",
       "      <td>-3701.361111</td>\n",
       "    </tr>\n",
       "    <tr>\n",
       "      <th>7697</th>\n",
       "      <td>0.499632</td>\n",
       "      <td>-3701.644190</td>\n",
       "      <td>-2.539546e+04</td>\n",
       "      <td>-3701.644190</td>\n",
       "      <td>-3701.644190</td>\n",
       "    </tr>\n",
       "    <tr>\n",
       "      <th>7698</th>\n",
       "      <td>0.499632</td>\n",
       "      <td>-3701.644190</td>\n",
       "      <td>-2.539546e+04</td>\n",
       "      <td>-3701.644190</td>\n",
       "      <td>-3701.644190</td>\n",
       "    </tr>\n",
       "    <tr>\n",
       "      <th>7699</th>\n",
       "      <td>0.499732</td>\n",
       "      <td>-3704.318595</td>\n",
       "      <td>-1.852115e+04</td>\n",
       "      <td>-3704.326966</td>\n",
       "      <td>-3704.326966</td>\n",
       "    </tr>\n",
       "    <tr>\n",
       "      <th>7700</th>\n",
       "      <td>0.499832</td>\n",
       "      <td>-3703.342972</td>\n",
       "      <td>-1.162857e+04</td>\n",
       "      <td>-3703.354101</td>\n",
       "      <td>-3703.354101</td>\n",
       "    </tr>\n",
       "    <tr>\n",
       "      <th>7701</th>\n",
       "      <td>0.499932</td>\n",
       "      <td>-3698.717549</td>\n",
       "      <td>-4.724523e+03</td>\n",
       "      <td>-3698.726045</td>\n",
       "      <td>-3698.726045</td>\n",
       "    </tr>\n",
       "    <tr>\n",
       "      <th>7702</th>\n",
       "      <td>0.500000</td>\n",
       "      <td>-3693.455794</td>\n",
       "      <td>2.160000e-10</td>\n",
       "      <td>-3693.460282</td>\n",
       "      <td>-3693.460282</td>\n",
       "    </tr>\n",
       "  </tbody>\n",
       "</table>\n",
       "<p>7703 rows × 5 columns</p>\n",
       "</div>"
      ],
      "text/plain": [
       "         time   input current  input voltage  output current  output voltage\n",
       "0     0.000000   -3693.592694   1.820000e-13    -3693.592647    -3693.592647\n",
       "1     0.000001   -3693.471647   9.319722e+01    -3693.471647    -3693.471647\n",
       "2     0.000001   -3693.471647   9.319722e+01    -3693.471647    -3693.471647\n",
       "3     0.000001   -3693.471647   9.319722e+01    -3693.471647    -3693.471647\n",
       "4     0.000101   -3682.650245   7.003518e+03    -3682.653682    -3682.653682\n",
       "5     0.000201   -3668.197395   1.390693e+04    -3668.204265    -3668.204265\n",
       "6     0.000301   -3650.122756   2.079661e+04    -3650.133053    -3650.133053\n",
       "7     0.000401   -3628.447297   2.766577e+04    -3628.461011    -3628.461011\n",
       "8     0.000501   -3603.190287   3.450763e+04    -3603.207404    -3603.207404\n",
       "9     0.000601   -3574.378083   4.131543e+04    -3574.398586    -3574.398586\n",
       "10    0.000701   -3542.038157   4.808246e+04    -3542.062026    -3542.062026\n",
       "11    0.000801   -3506.203067   5.480204e+04    -3506.230279    -3506.230279\n",
       "12    0.000901   -3466.907750   6.146753e+04    -3466.938277    -3466.938277\n",
       "13    0.001001   -3424.191269   6.807237e+04    -3424.225081    -3424.225081\n",
       "14    0.001101   -3378.095592   7.461002e+04    -3378.132656    -3378.132656\n",
       "15    0.001201   -3328.666333   8.107405e+04    -3328.706613    -3328.706613\n",
       "16    0.001301   -3275.952192   8.745806e+04    -3275.995647    -3275.995647\n",
       "17    0.001401   -3220.005243   9.375576e+04    -3220.051832    -3220.051832\n",
       "18    0.001501   -3160.880665   9.996094e+04    -3160.930340    -3160.930340\n",
       "19    0.001601   -3098.636828   1.060675e+05    -3098.689542    -3098.689542\n",
       "20    0.001701   -3033.335145   1.120693e+05    -3033.390845    -3033.390845\n",
       "21    0.001801   -2965.040070   1.179606e+05    -2965.098700    -2965.098700\n",
       "22    0.001901   -2893.818996   1.237354e+05    -2893.880499    -2893.880499\n",
       "23    0.002001   -2819.742212   1.293881e+05    -2819.806527    -2819.806527\n",
       "24    0.002101   -2742.882820   1.349132e+05    -2742.949884    -2742.949884\n",
       "25    0.002201   -2663.316673   1.403051e+05    -2663.386420    -2663.386420\n",
       "26    0.002301   -2581.122292   1.455585e+05    -2581.194652    -2581.194652\n",
       "27    0.002401   -2496.380792   1.506683e+05    -2496.455695    -2496.455695\n",
       "28    0.002501   -2409.175803   1.556294e+05    -2409.253175    -2409.253175\n",
       "29    0.002601   -2319.593386   1.604369e+05    -2319.673149    -2319.673149\n",
       "...        ...            ...            ...             ...             ...\n",
       "7673  0.497326   -2677.550788  -1.638112e+05    -2677.471947    -2677.471947\n",
       "7674  0.497426   -2756.608542  -1.591193e+05    -2756.541549    -2756.541549\n",
       "7675  0.497526   -2832.949709  -1.542704e+05    -2832.890744    -2832.890744\n",
       "7676  0.497626   -2906.499894  -1.492694e+05    -2906.443356    -2906.443356\n",
       "7677  0.497726   -2977.186546  -1.441212e+05    -2977.126862    -2977.126862\n",
       "7678  0.497826   -3044.939038  -1.388308e+05    -3044.872462    -3044.872462\n",
       "7679  0.497926   -3109.689030  -1.334036e+05    -3109.614852    -3109.614852\n",
       "7680  0.498026   -3171.371020  -1.278447e+05    -3171.291810    -3171.291810\n",
       "7681  0.498126   -3229.922939  -1.221598e+05    -3229.843737    -3229.843737\n",
       "7682  0.498226   -3285.286599  -1.163545e+05    -3285.213331    -3285.213331\n",
       "7683  0.498326   -3337.407892  -1.104343e+05    -3337.345497    -3337.345497\n",
       "7684  0.498426   -3386.236687  -1.044053e+05    -3386.187566    -3386.187566\n",
       "7685  0.498526   -3431.726472  -9.827329e+04    -3431.689747    -3431.689747\n",
       "7686  0.498626   -3473.833875  -9.204437e+04    -3473.805692    -3473.805692\n",
       "7687  0.498726   -3512.518233  -8.572468e+04    -3512.493011    -3512.493011\n",
       "7688  0.498826   -3547.741361  -7.932044e+04    -3547.713585    -3547.713585\n",
       "7689  0.498926   -3579.467601  -7.283798e+04    -3579.433593    -3579.433593\n",
       "7690  0.499026   -3607.664151  -6.628369e+04    -3607.623249    -3607.623249\n",
       "7691  0.499126   -3632.301584  -5.966403e+04    -3632.256354    -3632.256354\n",
       "7692  0.499226   -3653.354390  -5.298553e+04    -3653.309815    -3653.309815\n",
       "7693  0.499326   -3670.801387  -4.625478e+04    -3670.763286    -3670.763286\n",
       "7694  0.499426   -3684.625873  -3.947841e+04    -3684.599052    -3684.599052\n",
       "7695  0.499526   -3694.815484  -3.266310e+04    -3694.802217    -3694.802217\n",
       "7696  0.499626   -3701.361793  -2.581559e+04    -3701.361111    -3701.361111\n",
       "7697  0.499632   -3701.644190  -2.539546e+04    -3701.644190    -3701.644190\n",
       "7698  0.499632   -3701.644190  -2.539546e+04    -3701.644190    -3701.644190\n",
       "7699  0.499732   -3704.318595  -1.852115e+04    -3704.326966    -3704.326966\n",
       "7700  0.499832   -3703.342972  -1.162857e+04    -3703.354101    -3703.354101\n",
       "7701  0.499932   -3698.717549  -4.724523e+03    -3698.726045    -3698.726045\n",
       "7702  0.500000   -3693.455794   2.160000e-10    -3693.460282    -3693.460282\n",
       "\n",
       "[7703 rows x 5 columns]"
      ]
     },
     "execution_count": 3,
     "metadata": {},
     "output_type": "execute_result"
    }
   ],
   "source": [
    "df"
   ]
  },
  {
   "cell_type": "code",
   "execution_count": 13,
   "metadata": {},
   "outputs": [
    {
     "data": {
      "text/plain": [
       "[<matplotlib.lines.Line2D at 0x19ce922f860>]"
      ]
     },
     "execution_count": 13,
     "metadata": {},
     "output_type": "execute_result"
    },
    {
     "data": {
      "image/png": "[encoded data removed]",
      "text/plain": [
       "<matplotlib.figure.Figure at 0x19ce90d6588>"
      ]
     },
     "metadata": {},
     "output_type": "display_data"
    }
   ],
   "source": [
    "plt.plot(df[\"time \"],df[\"output voltage\"])"
   ]
  },
  {
   "cell_type": "code",
   "execution_count": 17,
   "metadata": {},
   "outputs": [
    {
     "data": {
      "text/plain": [
       "time                 0.020001\n",
       "input current    -3693.414405\n",
       "input voltage       93.216694\n",
       "output current   -3693.414405\n",
       "output voltage   -3693.414405\n",
       "Name: 207, dtype: float64"
      ]
     },
     "execution_count": 17,
     "metadata": {},
     "output_type": "execute_result"
    }
   ],
   "source": [
    "df.iloc[207]"
   ]
  },
  {
   "cell_type": "code",
   "execution_count": 11,
   "metadata": {},
   "outputs": [],
   "source": [
    "l=df[\"output voltage\"][53:53+204].tolist()"
   ]
  },
  {
   "cell_type": "code",
   "execution_count": 12,
   "metadata": {},
   "outputs": [
    {
     "data": {
      "text/plain": [
       "-21.02699712003232"
      ]
     },
     "execution_count": 12,
     "metadata": {},
     "output_type": "execute_result"
    }
   ],
   "source": [
    "np.sum(l)"
   ]
  },
  {
   "cell_type": "code",
   "execution_count": 13,
   "metadata": {},
   "outputs": [],
   "source": [
    "l=[]\n",
    "l1=[]\n",
    "for j in range(53,1500):\n",
    "    l.append(np.sum(df[\"output voltage\"][j:j+204]))\n",
    "    l1.append(j)"
   ]
  },
  {
   "cell_type": "code",
   "execution_count": 14,
   "metadata": {},
   "outputs": [
    {
     "data": {
      "text/plain": [
       "[<matplotlib.lines.Line2D at 0x1db674afdd8>]"
      ]
     },
     "execution_count": 14,
     "metadata": {},
     "output_type": "execute_result"
    },
    {
     "data": {
      "image/png": "[encoded data removed]",
      "text/plain": [
       "<matplotlib.figure.Figure at 0x1db673d1198>"
      ]
     },
     "metadata": {},
     "output_type": "display_data"
    }
   ],
   "source": [
    "#plt.xlim(1500)\n",
    "plt.plot(l1,l)"
   ]
  },
  {
   "cell_type": "code",
   "execution_count": 34,
   "metadata": {},
   "outputs": [
    {
     "data": {
      "text/plain": [
       "[<matplotlib.lines.Line2D at 0x1db67a38ac8>]"
      ]
     },
     "execution_count": 34,
     "metadata": {},
     "output_type": "execute_result"
    },
    {
     "data": {
      "image/png": "[encoded data removed]",
      "text/plain": [
       "<matplotlib.figure.Figure at 0x1db67a38a90>"
      ]
     },
     "metadata": {},
     "output_type": "display_data"
    }
   ],
   "source": [
    "#.set_xlim(900,1100)\n",
    "#plt.ylim(-100,100)\n",
    "plt.xlim(750,900)\n",
    "plt.plot(l1,l)"
   ]
  },
  {
   "cell_type": "code",
   "execution_count": 36,
   "metadata": {},
   "outputs": [
    {
     "data": {
      "text/plain": [
       "0.082401349"
      ]
     },
     "execution_count": 36,
     "metadata": {},
     "output_type": "execute_result"
    }
   ],
   "source": [
    "df[\"time \"][840]"
   ]
  },
  {
   "cell_type": "code",
   "execution_count": 72,
   "metadata": {},
   "outputs": [
    {
     "data": {
      "text/plain": [
       "843"
      ]
     },
     "execution_count": 72,
     "metadata": {},
     "output_type": "execute_result"
    }
   ],
   "source": [
    "l1[790]"
   ]
  },
  {
   "cell_type": "code",
   "execution_count": 70,
   "metadata": {},
   "outputs": [
    {
     "data": {
      "text/plain": [
       "-21201.759359609976"
      ]
     },
     "execution_count": 70,
     "metadata": {},
     "output_type": "execute_result"
    }
   ],
   "source": [
    "l[790]"
   ]
  },
  {
   "cell_type": "code",
   "execution_count": 35,
   "metadata": {},
   "outputs": [
    {
     "data": {
      "text/plain": [
       "0.082401349"
      ]
     },
     "execution_count": 35,
     "metadata": {},
     "output_type": "execute_result"
    }
   ],
   "source": [
    "df[\"time \"][840]"
   ]
  },
  {
   "cell_type": "code",
   "execution_count": 7,
   "metadata": {},
   "outputs": [],
   "source": [
    "#l=df[\"output voltage\"][52:1502].tolist()"
   ]
  },
  {
   "cell_type": "code",
   "execution_count": 15,
   "metadata": {},
   "outputs": [],
   "source": [
    "l2=[]\n",
    "for i in range(53,1500):\n",
    "    l2.append((((df[\"output voltage\"][i+1]-df[\"output voltage\"][i-1])/(0.0002*100*np.pi))**2)+df[\"output voltage\"][i]**2)"
   ]
  },
  {
   "cell_type": "code",
   "execution_count": 21,
   "metadata": {},
   "outputs": [
    {
     "data": {
      "text/plain": [
       "[<matplotlib.lines.Line2D at 0x1db679711d0>]"
      ]
     },
     "execution_count": 21,
     "metadata": {},
     "output_type": "execute_result"
    },
    {
     "data": {
      "image/png": "[encoded data removed]",
      "text/plain": [
       "<matplotlib.figure.Figure at 0x1db67940c50>"
      ]
     },
     "metadata": {},
     "output_type": "display_data"
    }
   ],
   "source": [
    "plt.plot(l1,l2)"
   ]
  },
  {
   "cell_type": "code",
   "execution_count": 30,
   "metadata": {},
   "outputs": [
    {
     "data": {
      "text/plain": [
       "[<matplotlib.lines.Line2D at 0x1db679db6a0>]"
      ]
     },
     "execution_count": 30,
     "metadata": {},
     "output_type": "execute_result"
    },
    {
     "data": {
      "image/png": "[encoded data removed]",
      "text/plain": [
       "<matplotlib.figure.Figure at 0x1db679db3c8>"
      ]
     },
     "metadata": {},
     "output_type": "display_data"
    }
   ],
   "source": [
    "plt.xlim(950,1100)\n",
    "plt.plot(l1,l2)"
   ]
  },
  {
   "cell_type": "code",
   "execution_count": 37,
   "metadata": {},
   "outputs": [
    {
     "data": {
      "text/plain": [
       "0.099301349"
      ]
     },
     "execution_count": 37,
     "metadata": {},
     "output_type": "execute_result"
    }
   ],
   "source": [
    "df[\"time \"][1010]"
   ]
  },
  {
   "cell_type": "code",
   "execution_count": null,
   "metadata": {},
   "outputs": [],
   "source": []
  }
 ],
 "metadata": {
  "kernelspec": {
   "display_name": "Python 3",
   "language": "python",
   "name": "python3"
  },
  "language_info": {
   "codemirror_mode": {
    "name": "ipython",
    "version": 3
   },
   "file_extension": ".py",
   "mimetype": "text/x-python",
   "name": "python",
   "nbconvert_exporter": "python",
   "pygments_lexer": "ipython3",
   "version": "3.6.4"
  }
 },
 "nbformat": 4,
 "nbformat_minor": 2
}
